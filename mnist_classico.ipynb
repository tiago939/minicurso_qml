{
 "cells": [
  {
   "cell_type": "markdown",
   "id": "389f4d3b-66e3-446b-a072-8cfd892aec07",
   "metadata": {},
   "source": [
    "# Rede neural clássica aplicada ao problema de classificação de dígitos MNIST\n",
    "\n",
    "Primeiro, vamos importar as bibliotecas necessárias:"
   ]
  },
  {
   "cell_type": "code",
   "execution_count": null,
   "id": "b963c992-40bf-4a08-8358-c150c65b104d",
   "metadata": {},
   "outputs": [],
   "source": [
    "import torch\n",
    "import torch.nn as nn\n",
    "import torch.optim as optim\n",
    "import torchvision\n",
    "import torchvision.transforms as transforms\n",
    "import numpy as np\n",
    "import random\n",
    "import matplotlib.pyplot as plt"
   ]
  },
  {
   "cell_type": "markdown",
   "id": "01f7a253-50e1-40e8-9bb9-da1846d249b9",
   "metadata": {},
   "source": [
    "Para obter resultados reprodutíveis, vamos fixar um random seed:"
   ]
  },
  {
   "cell_type": "code",
   "execution_count": null,
   "id": "2b733a5f-d9d9-4aca-8165-f3c64ccc083f",
   "metadata": {},
   "outputs": [],
   "source": [
    "seed = 42\n",
    "np.random.seed(seed)\n",
    "random.seed(seed)\n",
    "torch.manual_seed(seed)\n",
    "if torch.cuda.is_available():\n",
    "    torch.cuda.manual_seed(seed)\n",
    "    torch.cuda.manual_seed_all(seed)\n",
    "    torch.backends.cudnn.deterministic = True"
   ]
  },
  {
   "cell_type": "markdown",
   "id": "e914f0e4-a983-49f0-adca-32c69ffee3a9",
   "metadata": {},
   "source": [
    "Utilizaremos a função transforms do PyTorch para transformar uma imagem em um tensor"
   ]
  },
  {
   "cell_type": "code",
   "execution_count": null,
   "id": "c9c22702-47c8-4c20-975b-a54559338179",
   "metadata": {},
   "outputs": [],
   "source": [
    "transformation = transforms.Compose([\n",
    "    transforms.ToTensor(),\n",
    "])"
   ]
  },
  {
   "cell_type": "markdown",
   "id": "eca57824-b9f7-4de7-946e-c0308f9d6dbd",
   "metadata": {},
   "source": [
    "Vamos fazer o download do dataset MNIST, já separado em um conjunto de treino e um conjunto de validação"
   ]
  },
  {
   "cell_type": "code",
   "execution_count": null,
   "id": "70f87c21-0dab-462b-a0dc-d72791fae238",
   "metadata": {},
   "outputs": [],
   "source": [
    "trainset = torchvision.datasets.MNIST(root='./datasets/', train=True, download=True, transform=transformation)\n",
    "trainloader = torch.utils.data.DataLoader(trainset, batch_size=32, shuffle=False, num_workers=1)\n",
    "\n",
    "testset = torchvision.datasets.MNIST(root='./datasets/', train=False, download=True, transform=transformation)\n",
    "testloader = torch.utils.data.DataLoader(testset, batch_size=32, shuffle=False, num_workers=1)"
   ]
  },
  {
   "cell_type": "markdown",
   "id": "d49a9a91-1a40-40c4-b816-9b1be4df8bd0",
   "metadata": {},
   "source": [
    "Visualizando algumas imagens do dataset"
   ]
  },
  {
   "cell_type": "code",
   "execution_count": null,
   "id": "7fafb0b8-45f6-44dd-840b-69fd9a428976",
   "metadata": {},
   "outputs": [],
   "source": [
    "dataiter = iter(trainloader)\n",
    "images, labels = next(dataiter)\n",
    "images = images[:5]\n",
    "\n",
    "fig, axes = plt.subplots(1, 5, figsize=(10, 2))\n",
    "for i, image in enumerate(images):\n",
    "    axes[i].imshow(image.squeeze(), cmap='gray')\n",
    "    axes[i].axis('off')\n",
    "\n",
    "plt.show()"
   ]
  },
  {
   "cell_type": "markdown",
   "id": "bf3c28b6-2930-428b-892c-e36e8cee2384",
   "metadata": {},
   "source": [
    "Agora vamos criar uma simples rede neural para classificar as imagens"
   ]
  },
  {
   "cell_type": "code",
   "execution_count": null,
   "id": "95ba2bb1-72d7-4def-98b6-b7d3bc033a10",
   "metadata": {},
   "outputs": [],
   "source": [
    "class Network(nn.Module):\n",
    "\n",
    "    def __init__(self):\n",
    "        super(Network, self).__init__()\n",
    "\n",
    "        #Definir arquitetura da rede neural\n",
    "\n",
    "    def forward(self, x):\n",
    "        \n",
    "        #Propagar informação\n",
    "        \n",
    "        return x"
   ]
  },
  {
   "cell_type": "markdown",
   "id": "69cf51d1-3136-44cb-bd1c-b483cf28b86d",
   "metadata": {},
   "source": [
    "Instanciar o modelo e definir o otimizador:"
   ]
  },
  {
   "cell_type": "code",
   "execution_count": null,
   "id": "eca9fd4c-7902-4018-9f24-08e53c3ed26e",
   "metadata": {},
   "outputs": [],
   "source": [
    "device = 'cuda' if torch.cuda.is_available else 'cpu'\n",
    "#Instanciar modelo\n",
    "\n",
    "#Instanciar otimizador"
   ]
  },
  {
   "cell_type": "code",
   "execution_count": null,
   "id": "ba18af9d-aa75-4146-b90c-e40564712133",
   "metadata": {},
   "outputs": [],
   "source": [
    "for epoch in range(8):\n",
    "\n",
    "    model.train()\n",
    "    train_accuracy = 0\n",
    "    L_train = 0\n",
    "    for batch_id, (img, label) in enumerate(trainloader):\n",
    "\n",
    "        imgs = img.to(device)\n",
    "        labels = label.to(device)\n",
    "        outputs = model(imgs)\n",
    "        target = torch.nn.functional.one_hot(labels, num_classes=10)\n",
    "        \n",
    "        #Definir função custo\n",
    "\n",
    "        #Loop de treino\n",
    "\n",
    "        _, preds = torch.max(outputs, 1)\n",
    "        L_train += img.shape[0]\n",
    "        train_accuracy += torch.sum(preds == labels.data).item()\n",
    "\n",
    "    model.eval()\n",
    "    test_accuracy = 0\n",
    "    L_test = 0\n",
    "    with torch.no_grad():\n",
    "        for batch_id, (img, label) in enumerate(testloader):\n",
    "        \n",
    "            imgs = img.to(device)\n",
    "            labels = label.to(device)\n",
    "            outputs = model(imgs)\n",
    "            target = torch.nn.functional.one_hot(labels, num_classes=10)\n",
    "\n",
    "            _, preds = torch.max(outputs, 1)\n",
    "            L_test += img.shape[0]\n",
    "            test_accuracy += torch.sum(preds == labels.data).item()\n",
    "        \n",
    "    print(epoch, 'Acurácia de treino: ', train_accuracy/L_train, 'acurácia de teste: ', test_accuracy/L_test)"
   ]
  }
 ],
 "metadata": {
  "kernelspec": {
   "display_name": "Python 3 (ipykernel)",
   "language": "python",
   "name": "python3"
  },
  "language_info": {
   "codemirror_mode": {
    "name": "ipython",
    "version": 3
   },
   "file_extension": ".py",
   "mimetype": "text/x-python",
   "name": "python",
   "nbconvert_exporter": "python",
   "pygments_lexer": "ipython3",
   "version": "3.12.5"
  }
 },
 "nbformat": 4,
 "nbformat_minor": 5
}
