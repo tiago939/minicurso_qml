{
 "cells": [
  {
   "cell_type": "code",
   "execution_count": null,
   "id": "13a8826a-4fdd-4d86-88bd-a75b2c8a0cf5",
   "metadata": {},
   "outputs": [],
   "source": [
    "import pennylane as qml\n",
    "import numpy as np\n",
    "import matplotlib.pyplot as plt\n",
    "from qiskit.visualization import plot_bloch_vector"
   ]
  },
  {
   "cell_type": "code",
   "execution_count": null,
   "id": "3348e732-86d2-456b-8da4-569d324a9afc",
   "metadata": {},
   "outputs": [],
   "source": [
    "dev = qml.device(\"default.qubit\", wires=1)\n",
    "@qml.qnode(dev)\n",
    "def circuit():\n",
    "    qml.BasisState(np.array([0]), wires=[0])\n",
    "\n",
    "    #Definir portas de rotação\n",
    "\n",
    "    return qml.state()"
   ]
  },
  {
   "cell_type": "code",
   "execution_count": null,
   "id": "debb421b-3d53-4488-9f8e-635c4ca0aec7",
   "metadata": {},
   "outputs": [],
   "source": [
    "fig, ax = qml.draw_mpl(circuit)()\n",
    "plt.show()"
   ]
  },
  {
   "cell_type": "code",
   "execution_count": null,
   "id": "da894a92-319d-4a5f-b688-22c1382d210d",
   "metadata": {},
   "outputs": [],
   "source": [
    "state = circuit()\n",
    "state"
   ]
  },
  {
   "cell_type": "code",
   "execution_count": null,
   "id": "27f3b278-e33d-4e2d-825b-96528e01027c",
   "metadata": {},
   "outputs": [],
   "source": [
    "state = np.array(state)\n",
    "\n",
    "def state2vector(state):\n",
    "    alpha = state[0]\n",
    "    beta = state[1]\n",
    "    \n",
    "    x = 2 * np.real(np.conjugate(alpha) * beta)\n",
    "    y = 2 * np.imag(np.conjugate(alpha) * beta)\n",
    "    z = np.abs(alpha)**2 - np.abs(beta)**2\n",
    "    return [x, y, z]\n",
    "\n",
    "bloch_vector = state2vector(state)\n",
    "plot_bloch_vector(bloch_vector)"
   ]
  }
 ],
 "metadata": {
  "kernelspec": {
   "display_name": "Python 3 (ipykernel)",
   "language": "python",
   "name": "python3"
  },
  "language_info": {
   "codemirror_mode": {
    "name": "ipython",
    "version": 3
   },
   "file_extension": ".py",
   "mimetype": "text/x-python",
   "name": "python",
   "nbconvert_exporter": "python",
   "pygments_lexer": "ipython3",
   "version": "3.12.5"
  }
 },
 "nbformat": 4,
 "nbformat_minor": 5
}
