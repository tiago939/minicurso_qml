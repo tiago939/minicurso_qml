{
 "cells": [
  {
   "cell_type": "markdown",
   "id": "9029a6a7-61f4-425d-9500-92c3be75ea29",
   "metadata": {},
   "source": [
    "# Circuito quântico no Pennylane\n",
    "\n",
    "Vamos criar um circuito que prepara o estado de Bell:\n",
    "\n",
    "$|\\psi\\rangle = \\frac{|00\\rangle + |11\\rangle}{\\sqrt{2}}$"
   ]
  },
  {
   "cell_type": "markdown",
   "id": "1770cbd5-ffe3-4100-aed0-3faccadd6c23",
   "metadata": {},
   "source": [
    "Importar as bibliotecas necessárias"
   ]
  },
  {
   "cell_type": "code",
   "execution_count": null,
   "id": "8e5baaac-798a-4982-8ca0-be56d221b912",
   "metadata": {},
   "outputs": [],
   "source": [
    "import pennylane as qml\n",
    "import numpy as np\n",
    "import matplotlib.pyplot as plt"
   ]
  },
  {
   "cell_type": "markdown",
   "id": "c81d1a8a-8662-4e9a-a534-6260a835f92c",
   "metadata": {},
   "source": [
    "Construir o circuito e obter os valores esperandos usando $\\textit{qml.expval}$"
   ]
  },
  {
   "cell_type": "code",
   "execution_count": null,
   "id": "e9f1292c-e913-40fb-bc80-6abe4c5d40d7",
   "metadata": {},
   "outputs": [],
   "source": [
    "dev = qml.device(\"default.qubit\", wires=2)\n",
    "@qml.qnode(dev)\n",
    "def circuit():\n",
    "    qml.BasisState(np.array([0, 0]), wires=[0, 1])\n",
    "    "
   ]
  },
  {
   "cell_type": "code",
   "execution_count": null,
   "id": "9729c0a6-fee0-4654-9d93-2b24b734f4eb",
   "metadata": {},
   "outputs": [],
   "source": [
    "fig, ax = qml.draw_mpl(circuit)()\n",
    "plt.show()"
   ]
  },
  {
   "cell_type": "code",
   "execution_count": null,
   "id": "6b1cbfe9-e7ff-4d0d-bb5a-3d0c31c7b0de",
   "metadata": {},
   "outputs": [],
   "source": [
    "circuit()"
   ]
  },
  {
   "cell_type": "markdown",
   "id": "2c6e8e22-3871-4747-9e0c-e8ed627337b5",
   "metadata": {},
   "source": [
    "Vamos descobrir o estado de saída usando $\\textit{qml.state}$"
   ]
  },
  {
   "cell_type": "code",
   "execution_count": null,
   "id": "e55f4358-bf04-4fd9-8ca1-bb811d8c25c0",
   "metadata": {},
   "outputs": [],
   "source": [
    "dev = qml.device(\"default.qubit\", wires=2)\n",
    "@qml.qnode(dev)\n",
    "def circuit():"
   ]
  },
  {
   "cell_type": "code",
   "execution_count": null,
   "id": "bebcf8ed-96c0-4410-84d1-f7d7db28c401",
   "metadata": {},
   "outputs": [],
   "source": [
    "circuit()"
   ]
  },
  {
   "cell_type": "markdown",
   "id": "55161e1f-cded-4a11-bee0-a8ac78924e03",
   "metadata": {},
   "source": [
    "Vamos fazer a estatística das medidas usando $qml.sample$"
   ]
  },
  {
   "cell_type": "code",
   "execution_count": null,
   "id": "32ed2f9e-0938-4c81-bf12-7acac1a8d035",
   "metadata": {},
   "outputs": [],
   "source": [
    "dev = qml.device(\"default.qubit\", wires=2, shots=10000)\n",
    "@qml.qnode(dev)\n",
    "def circuit():"
   ]
  },
  {
   "cell_type": "code",
   "execution_count": null,
   "id": "827b1f3a-99de-469a-a630-a99a350e0898",
   "metadata": {},
   "outputs": [],
   "source": [
    "results = circuit()"
   ]
  },
  {
   "cell_type": "code",
   "execution_count": null,
   "id": "45aee5ee-50d9-4d11-92e5-60705aae90e4",
   "metadata": {},
   "outputs": [],
   "source": [
    "plt.figure(figsize=(10,5))\n",
    "\n",
    "plt.subplot(1, 2, 1)\n",
    "plt.hist(results[0], bins=[-1, 0, 1], align='mid', rwidth=0.8)\n",
    "plt.title('Qubit 0')\n",
    "plt.xticks([-1, 1])\n",
    "\n",
    "plt.subplot(1, 2, 2)\n",
    "plt.hist(results[1], bins=[-1, 0, 1], align='mid', rwidth=0.8)\n",
    "plt.title('Qubit 1')\n",
    "plt.xticks([-1, 1])\n",
    "\n",
    "plt.tight_layout()\n",
    "plt.show()"
   ]
  },
  {
   "cell_type": "markdown",
   "id": "e2811e10-0f3c-4f4e-8543-8abcc05a2b4b",
   "metadata": {},
   "source": [
    "Podemos também obter as probabilidades dos estados usando $\\textit{qml.probs}$"
   ]
  },
  {
   "cell_type": "code",
   "execution_count": null,
   "id": "8fdc56ee-488f-4797-b0a3-659e2dcd18e5",
   "metadata": {},
   "outputs": [],
   "source": [
    "dev = qml.device(\"default.qubit\", wires=2, shots=10000)\n",
    "@qml.qnode(dev)\n",
    "def circuit():"
   ]
  },
  {
   "cell_type": "code",
   "execution_count": null,
   "id": "203765aa-1132-4fcd-a00b-1a354352ecd3",
   "metadata": {},
   "outputs": [],
   "source": [
    "circuit()"
   ]
  }
 ],
 "metadata": {
  "kernelspec": {
   "display_name": "Python 3 (ipykernel)",
   "language": "python",
   "name": "python3"
  },
  "language_info": {
   "codemirror_mode": {
    "name": "ipython",
    "version": 3
   },
   "file_extension": ".py",
   "mimetype": "text/x-python",
   "name": "python",
   "nbconvert_exporter": "python",
   "pygments_lexer": "ipython3",
   "version": "3.12.5"
  }
 },
 "nbformat": 4,
 "nbformat_minor": 5
}
