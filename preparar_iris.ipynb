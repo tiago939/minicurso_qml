{
 "cells": [
  {
   "cell_type": "code",
   "execution_count": null,
   "id": "d05c9020-e5ab-4390-9247-5f4aa9afaff6",
   "metadata": {},
   "outputs": [],
   "source": [
    "import pennylane as qml\n",
    "import numpy as np\n",
    "from sklearn import datasets\n",
    "import matplotlib.pyplot as plt"
   ]
  },
  {
   "cell_type": "code",
   "execution_count": null,
   "id": "f88af3c6-4431-40cf-bd90-d91bfbf9f806",
   "metadata": {},
   "outputs": [],
   "source": [
    "data = datasets.load_iris()"
   ]
  },
  {
   "cell_type": "code",
   "execution_count": null,
   "id": "0be663d3-befa-42c5-b1ad-9656e7cd80a6",
   "metadata": {},
   "outputs": [],
   "source": [
    "data"
   ]
  },
  {
   "cell_type": "code",
   "execution_count": null,
   "id": "b58d4676-50d2-4ff9-9fda-10b7b04dbb68",
   "metadata": {},
   "outputs": [],
   "source": [
    "_, ax = plt.subplots()\n",
    "scatter = ax.scatter(data.data[:, 0], data.data[:, 1], c=data.target)\n",
    "ax.set(xlabel=data.feature_names[0], ylabel=data.feature_names[1])\n",
    "_ = ax.legend(\n",
    "    scatter.legend_elements()[0], data.target_names, loc=\"lower right\", title=\"Classes\"\n",
    ")"
   ]
  },
  {
   "cell_type": "code",
   "execution_count": null,
   "id": "d426a039-6dd8-4acc-bca0-2ff1ed52260f",
   "metadata": {},
   "outputs": [],
   "source": [
    "x = data['data'][0]\n",
    "x"
   ]
  },
  {
   "cell_type": "markdown",
   "id": "456e2391-e538-4ba3-87dc-b28cf43ae564",
   "metadata": {},
   "source": [
    "Vamos usar $\\textbf{codificador por amplitude}$ para transformar os dados de uma flor em um estado quântico usando a função $\\textit{qml.QubitStateVector}$"
   ]
  },
  {
   "cell_type": "code",
   "execution_count": null,
   "id": "62a91ae7-33ac-4d9e-879b-6883ae5f475a",
   "metadata": {},
   "outputs": [],
   "source": [
    "dev = qml.device(\"default.qubit\", wires=0)\n",
    "@qml.qnode(dev)\n",
    "def get_state(x):\n",
    "\n",
    "    return qml.state()\n",
    "\n",
    "fig, ax = qml.draw_mpl(get_state)(x)\n",
    "plt.show()"
   ]
  },
  {
   "cell_type": "code",
   "execution_count": null,
   "id": "669f9587-c425-4094-bf1c-a711524e74fd",
   "metadata": {},
   "outputs": [],
   "source": [
    "get_state(x)"
   ]
  },
  {
   "cell_type": "markdown",
   "id": "825facfe-e5c0-40ee-9de8-c1ecd5d6d7c9",
   "metadata": {},
   "source": [
    "Vamos usar $\\textbf{codificador por fase}$ para transformar os dados de uma flor em um estado quântico:"
   ]
  },
  {
   "cell_type": "code",
   "execution_count": null,
   "id": "43b12ad6-24a9-4d46-9b41-b2d9865adc2c",
   "metadata": {},
   "outputs": [],
   "source": [
    "dev = qml.device(\"default.qubit\", wires=4)\n",
    "@qml.qnode(dev)\n",
    "def get_state(x):\n",
    "\n",
    "    return qml.state()\n",
    "\n",
    "fig, ax = qml.draw_mpl(get_state)(x)\n",
    "plt.show()"
   ]
  },
  {
   "cell_type": "code",
   "execution_count": null,
   "id": "326a97f7-0728-4777-90d0-4183352b78be",
   "metadata": {},
   "outputs": [],
   "source": [
    "get_state(x)"
   ]
  }
 ],
 "metadata": {
  "kernelspec": {
   "display_name": "Python 3 (ipykernel)",
   "language": "python",
   "name": "python3"
  },
  "language_info": {
   "codemirror_mode": {
    "name": "ipython",
    "version": 3
   },
   "file_extension": ".py",
   "mimetype": "text/x-python",
   "name": "python",
   "nbconvert_exporter": "python",
   "pygments_lexer": "ipython3",
   "version": "3.12.5"
  }
 },
 "nbformat": 4,
 "nbformat_minor": 5
}
