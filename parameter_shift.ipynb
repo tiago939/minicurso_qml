{
 "cells": [
  {
   "cell_type": "code",
   "execution_count": null,
   "id": "1cb51c54-9254-4c68-b2cd-b8c1611c8f90",
   "metadata": {},
   "outputs": [],
   "source": [
    "import pennylane as qml\n",
    "import torch\n",
    "import numpy as np"
   ]
  },
  {
   "cell_type": "markdown",
   "id": "d8529830-c488-4af9-8feb-3c52188cca30",
   "metadata": {},
   "source": [
    "A regra do parameter-shift depende de obtermos os valores esperados, vamos usar a função $\\textit{qml.expval}$.\n",
    "Vamos usar esta regra de treinamento para obter um valor esperado alvo."
   ]
  },
  {
   "cell_type": "code",
   "execution_count": null,
   "id": "6374f7fb-36df-47c7-af4c-674654b9e0c7",
   "metadata": {},
   "outputs": [],
   "source": [
    "dev = qml.device('default.qubit', wires=1)\n",
    "@qml.qnode(dev, interface='torch')\n",
    "def circuit(params):\n",
    "\n",
    "params = []\n",
    "\n",
    "target_expectation = []"
   ]
  },
  {
   "cell_type": "code",
   "execution_count": 1,
   "id": "5be640d6-6021-40e9-b0a7-19d9c5cd3373",
   "metadata": {},
   "outputs": [],
   "source": [
    "def parameter_shift(circuit, params):\n",
    "    #Obter gradiente usando a regra do parameter-shift\n",
    "\n",
    "    return gradient"
   ]
  },
  {
   "cell_type": "code",
   "execution_count": null,
   "id": "d809909c-0b67-4aec-b7e7-d0ce68addf2b",
   "metadata": {},
   "outputs": [],
   "source": [
    "learning_rate ="
   ]
  },
  {
   "cell_type": "code",
   "execution_count": null,
   "id": "d470acd4-ff65-4b0f-bfc8-b15c413fb4f3",
   "metadata": {},
   "outputs": [],
   "source": [
    "for epoch in range(512):\n",
    "    #Loop de treinamento\n",
    "\n",
    "    print(epoch, expectation_value)"
   ]
  }
 ],
 "metadata": {
  "kernelspec": {
   "display_name": "Python 3 (ipykernel)",
   "language": "python",
   "name": "python3"
  },
  "language_info": {
   "codemirror_mode": {
    "name": "ipython",
    "version": 3
   },
   "file_extension": ".py",
   "mimetype": "text/x-python",
   "name": "python",
   "nbconvert_exporter": "python",
   "pygments_lexer": "ipython3",
   "version": "3.12.5"
  }
 },
 "nbformat": 4,
 "nbformat_minor": 5
}
