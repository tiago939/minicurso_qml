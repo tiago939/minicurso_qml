{
 "cells": [
  {
   "cell_type": "code",
   "execution_count": null,
   "id": "e51b9e43-4ad5-41e0-8263-2c7653694c0c",
   "metadata": {},
   "outputs": [],
   "source": [
    "import pennylane as qml\n",
    "import torch\n",
    "import numpy as np\n",
    "import matplotlib.pyplot as plt\n",
    "import random"
   ]
  },
  {
   "cell_type": "code",
   "execution_count": null,
   "id": "ad6282c5-1887-4376-b8ee-40f685a2ea3b",
   "metadata": {},
   "outputs": [],
   "source": [
    "seed = 42\n",
    "np.random.seed(seed)\n",
    "random.seed(seed)\n",
    "torch.manual_seed(seed)\n",
    "if torch.cuda.is_available():\n",
    "    torch.cuda.manual_seed(seed)\n",
    "    torch.cuda.manual_seed_all(seed)\n",
    "    torch.backends.cudnn.deterministic = True"
   ]
  },
  {
   "cell_type": "code",
   "execution_count": null,
   "id": "f42a3997-1167-49ec-80f6-cdfe93a7aba2",
   "metadata": {},
   "outputs": [],
   "source": [
    "dev = qml.device('default.qubit', wires=2)\n",
    "@qml.qnode(dev, interface='torch')\n",
    "def circuit(params):\n",
    "    #Definir circuito\n",
    "    \n",
    "    return qml.state()"
   ]
  },
  {
   "cell_type": "code",
   "execution_count": null,
   "id": "bd746d59-ee8e-40cc-85eb-387be1ca6319",
   "metadata": {},
   "outputs": [],
   "source": [
    "#Definir parâmetros\n",
    "params = []"
   ]
  },
  {
   "cell_type": "code",
   "execution_count": null,
   "id": "2dce5af5-b86e-445b-a253-60cd74298b4e",
   "metadata": {},
   "outputs": [],
   "source": [
    "fig, ax = qml.draw_mpl(circuit)(params)\n",
    "plt.show()"
   ]
  },
  {
   "cell_type": "code",
   "execution_count": null,
   "id": "d926061e-a68b-4efa-bd32-8dd1d81bc1c1",
   "metadata": {},
   "outputs": [],
   "source": [
    "target ="
   ]
  },
  {
   "cell_type": "code",
   "execution_count": null,
   "id": "182986b3-1195-4976-ba3b-8e747e558795",
   "metadata": {},
   "outputs": [],
   "source": [
    "#Definir otimizador\n",
    "optimizer = "
   ]
  },
  {
   "cell_type": "code",
   "execution_count": null,
   "id": "7c0f3f0c-c9cb-4e0a-8f64-841b9ef8fbab",
   "metadata": {},
   "outputs": [],
   "source": [
    "for epoch in range(128):\n",
    "    state = circuit(params).reshape((4,1)).type(torch.complex64)\n",
    "\n",
    "    #Definir função custo\n",
    "\n",
    "    #Otimizar parâmetros"
   ]
  },
  {
   "cell_type": "code",
   "execution_count": null,
   "id": "07a27fda-da2e-4bc3-a589-a1d134387bed",
   "metadata": {},
   "outputs": [],
   "source": [
    "print('Target state: ')\n",
    "print(target.T)\n",
    "print('Prepared state: ')\n",
    "print(state.T)"
   ]
  }
 ],
 "metadata": {
  "kernelspec": {
   "display_name": "Python 3 (ipykernel)",
   "language": "python",
   "name": "python3"
  },
  "language_info": {
   "codemirror_mode": {
    "name": "ipython",
    "version": 3
   },
   "file_extension": ".py",
   "mimetype": "text/x-python",
   "name": "python",
   "nbconvert_exporter": "python",
   "pygments_lexer": "ipython3",
   "version": "3.12.5"
  }
 },
 "nbformat": 4,
 "nbformat_minor": 5
}
