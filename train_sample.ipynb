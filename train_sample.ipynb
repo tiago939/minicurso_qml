{
 "cells": [
  {
   "cell_type": "code",
   "execution_count": null,
   "id": "58f2c216-0c00-4102-b796-61ac35da55e8",
   "metadata": {},
   "outputs": [],
   "source": [
    "import pennylane as qml\n",
    "import torch\n",
    "import numpy as np"
   ]
  },
  {
   "cell_type": "code",
   "execution_count": null,
   "id": "39894bf7-6fa4-42a3-bf5a-257ad725a053",
   "metadata": {},
   "outputs": [],
   "source": [
    "dev = qml.device('default.qubit', wires=1, shots=1000)\n",
    "@qml.qnode(dev, interface='torch')\n",
    "def circuit(params):\n",
    "    #Definir circuito"
   ]
  },
  {
   "cell_type": "code",
   "execution_count": null,
   "id": "98a8207a-3783-4c79-8260-d1d04fc1873d",
   "metadata": {},
   "outputs": [],
   "source": [
    "params = "
   ]
  },
  {
   "cell_type": "code",
   "execution_count": null,
   "id": "1d390086-f81a-42fe-b31d-d630c8d508cb",
   "metadata": {},
   "outputs": [],
   "source": [
    "target_expectations ="
   ]
  },
  {
   "cell_type": "code",
   "execution_count": null,
   "id": "661a51ad-5147-4317-92b2-c5c6c61d678a",
   "metadata": {},
   "outputs": [],
   "source": [
    "def get_expectations(samples):\n",
    "    #Calcular valores esperados a partir de amostras"
   ]
  },
  {
   "cell_type": "code",
   "execution_count": null,
   "id": "d8ef6e9e-c622-4690-bc11-16355a93066a",
   "metadata": {},
   "outputs": [],
   "source": [
    "def parameter_shift(circuit, params, idx):\n",
    "    #Implementar a regra do parameter_shift para cada parâmetro"
   ]
  },
  {
   "cell_type": "code",
   "execution_count": null,
   "id": "363e7694-84e1-4eef-9cb2-d2b101f644f1",
   "metadata": {},
   "outputs": [],
   "source": [
    "learning_rate = 0.1"
   ]
  },
  {
   "cell_type": "code",
   "execution_count": null,
   "id": "04e7e8e3-9b04-4fc0-830e-40fd981819f0",
   "metadata": {},
   "outputs": [],
   "source": [
    "for epoch in range(1):\n",
    "    #Treinar modelo"
   ]
  },
  {
   "cell_type": "code",
   "execution_count": null,
   "id": "55758de9-ab95-4b6a-a5d5-e1330d759077",
   "metadata": {},
   "outputs": [],
   "source": [
    "dev = qml.device('default.qubit', wires=1)\n",
    "@qml.qnode(dev, interface='torch')\n",
    "def circuit(params):\n",
    "    #Definir circuito\n",
    "    \n",
    "    return qml.state()\n",
    "\n",
    "state = circuit(params).detach().cpu().numpy()\n",
    "state"
   ]
  }
 ],
 "metadata": {
  "kernelspec": {
   "display_name": "Python 3 (ipykernel)",
   "language": "python",
   "name": "python3"
  },
  "language_info": {
   "codemirror_mode": {
    "name": "ipython",
    "version": 3
   },
   "file_extension": ".py",
   "mimetype": "text/x-python",
   "name": "python",
   "nbconvert_exporter": "python",
   "pygments_lexer": "ipython3",
   "version": "3.12.5"
  }
 },
 "nbformat": 4,
 "nbformat_minor": 5
}
